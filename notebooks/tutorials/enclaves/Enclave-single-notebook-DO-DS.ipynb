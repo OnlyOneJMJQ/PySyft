{
 "cells": [
  {
   "cell_type": "code",
   "execution_count": null,
   "id": "91683cd6",
   "metadata": {},
   "outputs": [],
   "source": [
    "import syft as sy\n",
    "import recordlinkage\n",
    "from recordlinkage.datasets import load_febrl4"
   ]
  },
  {
   "cell_type": "markdown",
   "id": "f1c3f6fa",
   "metadata": {},
   "source": [
    "# Create Nodes"
   ]
  },
  {
   "cell_type": "markdown",
   "id": "fbe5d34d",
   "metadata": {},
   "source": [
    "create enclave node"
   ]
  },
  {
   "cell_type": "code",
   "execution_count": null,
   "id": "b5571623",
   "metadata": {},
   "outputs": [],
   "source": [
    "#Local Python Mode\n",
    "enclave_node = sy.orchestra.launch(name=\"enclave node\",node_type=\"enclave\", reset=True)\n",
    "# Local Python  Server Mode\n",
    "# enclave_node = sy.orchestra.launch(name=\"enclave node\",node_type=\"enclave\", port=\"auto\", reset=True)"
   ]
  },
  {
   "cell_type": "code",
   "execution_count": null,
   "id": "eee33401-f96f-4080-9e33-cc5d9cdbad94",
   "metadata": {},
   "outputs": [],
   "source": [
    "from syft.abstract_node import NodeType\n",
    "assert enclave_node.python_node.node_type == NodeType.ENCLAVE"
   ]
  },
  {
   "cell_type": "markdown",
   "id": "9e8061f3",
   "metadata": {},
   "source": [
    "Create canada node & italy node"
   ]
  },
  {
   "cell_type": "code",
   "execution_count": null,
   "id": "dfbe2887",
   "metadata": {},
   "outputs": [],
   "source": [
    "ca_node = sy.Orchestra.launch(name=\"canada\", local_db=True, reset=True)\n",
    "it_node = sy.Orchestra.launch(name=\"italy\", local_db=True, reset=True) "
   ]
  },
  {
   "cell_type": "code",
   "execution_count": null,
   "id": "f2dfbc56-90c8-4417-992f-7000271de13c",
   "metadata": {},
   "outputs": [],
   "source": [
    "assert ca_node.python_node.node_type == NodeType.DOMAIN\n",
    "assert it_node.python_node.node_type == NodeType.DOMAIN"
   ]
  },
  {
   "cell_type": "markdown",
   "id": "6bcfc534",
   "metadata": {},
   "source": [
    "# DOs"
   ]
  },
  {
   "cell_type": "code",
   "execution_count": null,
   "id": "304ddb77",
   "metadata": {},
   "outputs": [],
   "source": [
    "do_ca_client = ca_node.login(email=\"info@openmined.org\", password=\"changethis\")\n",
    "do_it_client = it_node.login(email=\"info@openmined.org\", password=\"changethis\")"
   ]
  },
  {
   "cell_type": "code",
   "execution_count": null,
   "id": "4d87f7fa-e476-4038-9310-cda9b6050410",
   "metadata": {},
   "outputs": [],
   "source": [
    "from syft.client.domain_client import DomainClient\n",
    "assert isinstance(do_ca_client, DomainClient)\n",
    "assert isinstance(do_it_client, DomainClient)"
   ]
  },
  {
   "cell_type": "markdown",
   "id": "7067e897",
   "metadata": {},
   "source": [
    "## Upload dataset"
   ]
  },
  {
   "cell_type": "code",
   "execution_count": null,
   "id": "79e4c728",
   "metadata": {},
   "outputs": [],
   "source": [
    "# Using public datasets from  Freely Extensible Biomedical Record Linkage (Febrl)\n",
    "canada_census_data, italy_census_data = load_febrl4()"
   ]
  },
  {
   "cell_type": "code",
   "execution_count": null,
   "id": "531e841c",
   "metadata": {},
   "outputs": [],
   "source": [
    "for (dataset, client, country) in zip([canada_census_data, italy_census_data], [do_ca_client, do_it_client], [\"Canada\", \"Italy\"]):\n",
    "    private_data, mock_data = dataset[:2500] , dataset[2500:]\n",
    "    dataset = sy.Dataset(\n",
    "        name=f\"{country} - FEBrl Census Data\",\n",
    "        description=\"abc\",\n",
    "        asset_list=[\n",
    "            sy.Asset(\n",
    "                name=\"census_data\",\n",
    "                mock=mock_data,\n",
    "                data=private_data,\n",
    "                shape=private_data.shape,\n",
    "                mock_is_real=True\n",
    "            )\n",
    "        ]\n",
    "    )\n",
    "    client.upload_dataset(dataset)\n",
    "    "
   ]
  },
  {
   "cell_type": "code",
   "execution_count": null,
   "id": "90c7623c-7150-4c5d-adf1-09208094f0c3",
   "metadata": {},
   "outputs": [],
   "source": [
    "assert len(do_ca_client.datasets.get_all()) == 1\n",
    "assert len(do_it_client.datasets.get_all()) == 1"
   ]
  },
  {
   "cell_type": "markdown",
   "id": "b851388f",
   "metadata": {},
   "source": [
    "## create accounts for DS"
   ]
  },
  {
   "cell_type": "code",
   "execution_count": null,
   "id": "068d7f74",
   "metadata": {},
   "outputs": [],
   "source": [
    "for client in [do_ca_client, do_it_client]:\n",
    "    res = client.register(\n",
    "        name = \"Sheldon\",\n",
    "        email = \"sheldon@caltech.edu\",\n",
    "        password = \"changethis\"\n",
    "    )\n",
    "    assert isinstance(res, sy.service.response.SyftSuccess)"
   ]
  },
  {
   "cell_type": "markdown",
   "id": "17e97ac0",
   "metadata": {},
   "source": [
    "# DS"
   ]
  },
  {
   "cell_type": "markdown",
   "id": "09b4995b",
   "metadata": {},
   "source": [
    "## Login"
   ]
  },
  {
   "cell_type": "code",
   "execution_count": null,
   "id": "83d4b542",
   "metadata": {},
   "outputs": [],
   "source": [
    "ds_client = enclave_node.login(name=\"Sheldon\", email=\"sheldon@caltech.edu\", password=\"changethis\", register=True)"
   ]
  },
  {
   "cell_type": "code",
   "execution_count": null,
   "id": "0e881e8d-ad58-4ac5-aa23-88a46cc3073a",
   "metadata": {},
   "outputs": [],
   "source": [
    "from syft.client.enclave_client import EnclaveClient\n",
    "assert isinstance(ds_client, EnclaveClient)"
   ]
  },
  {
   "cell_type": "code",
   "execution_count": null,
   "id": "2c67cb91",
   "metadata": {},
   "outputs": [],
   "source": [
    "ds_client_it = it_node.login(email=\"sheldon@caltech.edu\" , password=\"changethis\")"
   ]
  },
  {
   "cell_type": "code",
   "execution_count": null,
   "id": "522d2144",
   "metadata": {},
   "outputs": [],
   "source": [
    "ds_client_ca = ca_node.login(email=\"sheldon@caltech.edu\" , password=\"changethis\")"
   ]
  },
  {
   "cell_type": "code",
   "execution_count": null,
   "id": "b85f80dd-8661-4cb8-83fb-da6866511403",
   "metadata": {},
   "outputs": [],
   "source": [
    "assert isinstance(ds_client_it, DomainClient)\n",
    "assert isinstance(ds_client_ca, DomainClient)"
   ]
  },
  {
   "cell_type": "markdown",
   "id": "016cbcc3",
   "metadata": {},
   "source": [
    "## Find datasets"
   ]
  },
  {
   "cell_type": "code",
   "execution_count": null,
   "id": "af85a8b4",
   "metadata": {},
   "outputs": [],
   "source": [
    "canada_census_data = ds_client_ca.datasets[-1].assets[0]\n",
    "italy_census_data = ds_client_it.datasets[-1].assets[0]"
   ]
  },
  {
   "cell_type": "markdown",
   "id": "5b3045b0",
   "metadata": {},
   "source": [
    "## Create Request"
   ]
  },
  {
   "cell_type": "code",
   "execution_count": null,
   "id": "919eb56a",
   "metadata": {},
   "outputs": [],
   "source": [
    "@sy.syft_function_single_use(canada_census_data=canada_census_data, italy_census_data=italy_census_data)\n",
    "def compute_census_matches(canada_census_data, italy_census_data):\n",
    "    import recordlinkage\n",
    "        \n",
    "    # Index step\n",
    "    indexer = recordlinkage.Index()\n",
    "    indexer.block(\"given_name\")\n",
    "\n",
    "    candidate_links = indexer.index(canada_census_data, italy_census_data)\n",
    "\n",
    "    # Comparison step\n",
    "    compare_cl = recordlinkage.Compare()\n",
    "\n",
    "    compare_cl.exact(\"given_name\", \"given_name\", label=\"given_name\")\n",
    "    compare_cl.string(\"surname\", \"surname\", method=\"jarowinkler\", threshold=0.85, label=\"surname\")\n",
    "    compare_cl.exact(\"date_of_birth\", \"date_of_birth\", label=\"date_of_birth\")\n",
    "    compare_cl.exact(\"suburb\", \"suburb\", label=\"suburb\")\n",
    "    compare_cl.exact(\"state\", \"state\", label=\"state\")\n",
    "    compare_cl.string(\"address_1\", \"address_1\", threshold=0.85, label=\"address_1\")\n",
    "\n",
    "    features = compare_cl.compute(candidate_links, canada_census_data, italy_census_data)\n",
    "\n",
    "    # Classification step\n",
    "    matches = features[features.sum(axis=1) > 3]\n",
    "    \n",
    "    return len(matches)\n",
    "    "
   ]
  },
  {
   "cell_type": "code",
   "execution_count": null,
   "id": "abeddba5",
   "metadata": {},
   "outputs": [],
   "source": [
    "#Checking result of mock data execution\n",
    "mock_result = compute_census_matches(\n",
    "                       canada_census_data=canada_census_data.mock,\n",
    "                       italy_census_data=italy_census_data.mock\n",
    "                    )\n",
    "mock_result"
   ]
  },
  {
   "cell_type": "code",
   "execution_count": null,
   "id": "8a6fa111",
   "metadata": {},
   "outputs": [],
   "source": [
    "req = ds_client.request_code_execution(compute_census_matches)\n",
    "req"
   ]
  },
  {
   "cell_type": "code",
   "execution_count": null,
   "id": "10590fe0-5fce-4c5e-be96-d2e78f1351e8",
   "metadata": {},
   "outputs": [],
   "source": [
    "assert isinstance(req, sy.service.request.request.Request)"
   ]
  },
  {
   "cell_type": "markdown",
   "id": "8bfb6139",
   "metadata": {},
   "source": [
    "# DOs"
   ]
  },
  {
   "cell_type": "markdown",
   "id": "706b3223",
   "metadata": {},
   "source": [
    "## Approve"
   ]
  },
  {
   "cell_type": "code",
   "execution_count": null,
   "id": "e3e45124",
   "metadata": {},
   "outputs": [],
   "source": [
    "for client in [do_ca_client, do_it_client]:\n",
    "    res = client.requests[-1].approve()\n",
    "    assert isinstance(res, sy.service.response.SyftSuccess)"
   ]
  },
  {
   "cell_type": "markdown",
   "id": "bdaedcc7",
   "metadata": {},
   "source": [
    "# DS"
   ]
  },
  {
   "cell_type": "markdown",
   "id": "2307e68c",
   "metadata": {},
   "source": [
    "##  Get result"
   ]
  },
  {
   "cell_type": "code",
   "execution_count": null,
   "id": "efaf4407",
   "metadata": {},
   "outputs": [],
   "source": [
    "status = ds_client.code.get_all()[-1].status\n",
    "status"
   ]
  },
  {
   "cell_type": "code",
   "execution_count": null,
   "id": "72f9944d-8570-48ae-a54e-5d2fed28a1a2",
   "metadata": {},
   "outputs": [],
   "source": [
    "for st in status.base_dict.values():\n",
    "    assert st == sy.service.request.request.UserCodeStatus.EXECUTE"
   ]
  },
  {
   "cell_type": "code",
   "execution_count": null,
   "id": "06d83903",
   "metadata": {},
   "outputs": [],
   "source": [
    "result_pointer = ds_client.code.compute_census_matches(\n",
    "    canada_census_data=canada_census_data,\n",
    "    italy_census_data=italy_census_data\n",
    ")"
   ]
  },
  {
   "cell_type": "code",
   "execution_count": null,
   "id": "eaaab19e",
   "metadata": {},
   "outputs": [],
   "source": [
    "result_pointer"
   ]
  },
  {
   "cell_type": "code",
   "execution_count": null,
   "id": "b5e98670-0394-4194-a810-abce1b397586",
   "metadata": {},
   "outputs": [],
   "source": [
    "result_pointer.syft_action_data == 858"
   ]
  },
  {
   "cell_type": "code",
   "execution_count": null,
   "id": "0792791e",
   "metadata": {},
   "outputs": [],
   "source": [
    "real_result = result_pointer.get()\n",
    "real_result"
   ]
  },
  {
   "cell_type": "code",
   "execution_count": null,
   "id": "5c6adc30",
   "metadata": {},
   "outputs": [],
   "source": [
    "assert real_result == 813"
   ]
  },
  {
   "cell_type": "code",
   "execution_count": null,
   "id": "8339e825-8dfa-43ff-9d0a-cc6900e0d889",
   "metadata": {},
   "outputs": [],
   "source": []
  }
 ],
 "metadata": {
  "kernelspec": {
   "display_name": "Python 3 (ipykernel)",
   "language": "python",
   "name": "python3"
  },
  "language_info": {
   "codemirror_mode": {
    "name": "ipython",
    "version": 3
   },
   "file_extension": ".py",
   "mimetype": "text/x-python",
   "name": "python",
   "nbconvert_exporter": "python",
   "pygments_lexer": "ipython3",
   "version": "3.11.4"
  },
  "toc": {
   "base_numbering": 1,
   "nav_menu": {},
   "number_sections": true,
   "sideBar": true,
   "skip_h1_title": false,
   "title_cell": "Table of Contents",
   "title_sidebar": "Contents",
   "toc_cell": false,
   "toc_position": {
    "height": "calc(100% - 180px)",
    "left": "10px",
    "top": "150px",
    "width": "358.398px"
   },
   "toc_section_display": true,
   "toc_window_display": true
  }
 },
 "nbformat": 4,
 "nbformat_minor": 5
}
